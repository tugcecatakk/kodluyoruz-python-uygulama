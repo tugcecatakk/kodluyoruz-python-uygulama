{
  "metadata": {
    "kernelspec": {
      "name": "python",
      "display_name": "Python (Pyodide)",
      "language": "python"
    },
    "language_info": {
      "codemirror_mode": {
        "name": "python",
        "version": 3
      },
      "file_extension": ".py",
      "mimetype": "text/x-python",
      "name": "python",
      "nbconvert_exporter": "python",
      "pygments_lexer": "ipython3",
      "version": "3.8"
    }
  },
  "nbformat_minor": 5,
  "nbformat": 4,
  "cells": [
    {
      "id": "983fdd57-fe5d-4e70-9852-843f4d6b727c",
      "cell_type": "code",
      "source": "points = [(1, 2), (4, 6), (7, 1)]\n\n\ndef euclideanDistance(point1, point2):\n    return math.sqrt((point1[0] - point2[0]) ** 2 + (point1[1] - point2[1]) ** 2)\n\ndistances = []\nfor i in range(len(points)):\n    for j in range(i + 1, len(points)):\n        distance = euclideanDistance(points[i], points[j])\n        distances.append(distance)\n\nmin_distance = min(distances)\nprint(\"Minimum mesafe:\", min_distance)",
      "metadata": {
        "trusted": true
      },
      "outputs": [],
      "execution_count": null
    }
  ]
}